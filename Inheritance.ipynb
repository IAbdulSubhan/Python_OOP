{
 "cells": [
  {
   "cell_type": "markdown",
   "id": "feede741-b12d-4bf0-b37f-6448a99c1f5c",
   "metadata": {},
   "source": [
    "# Inheritance"
   ]
  },
  {
   "cell_type": "markdown",
   "id": "4b853ef7-6c60-4e00-a362-785e6f82d2b0",
   "metadata": {},
   "source": [
    "### Python Inheritance\n",
    "* Inheritance allows us to define a class that inherits all the methods and properties from another class.\n",
    "\n",
    "* Parent class is the class being inherited from, also called base class.\n",
    "\n",
    "* Child class is the class that inherits from another class, also called derived class."
   ]
  },
  {
   "cell_type": "code",
   "execution_count": 2,
   "id": "7deb2e40-3357-4e76-9f73-7d49cdcdee34",
   "metadata": {},
   "outputs": [],
   "source": [
    "#Simple inheritance\n",
    "\n",
    "class Rectangle:\n",
    "    pass\n",
    "\n",
    "class Square(Rectangle):   #here Rectangle is parent class and square is child class\n",
    "    pass"
   ]
  },
  {
   "cell_type": "markdown",
   "id": "8f539600-a4f2-4a61-87f7-10e3ac02db48",
   "metadata": {},
   "source": [
    "### Create a Parent Class\n",
    "Any class can be a parent class, so the syntax is the same as creating any other class:\n",
    "\n"
   ]
  },
  {
   "cell_type": "code",
   "execution_count": 37,
   "id": "9c4e0625-e8d5-4a5f-8be6-f78f184c7391",
   "metadata": {},
   "outputs": [
    {
     "name": "stdout",
     "output_type": "stream",
     "text": [
      "John Doe\n"
     ]
    }
   ],
   "source": [
    "class Person:\n",
    "    def __init__(self, fname, lname):\n",
    "        self.firstname = fname\n",
    "        self.lastname = lname\n",
    "\n",
    "  # def printname(self):\n",
    "  #   print(self.firstname, self.lastname)\n",
    "\n",
    "    #OR\n",
    "    def __str__(self):\n",
    "        return self.firstname +\" \"+ self.lastname\n",
    "\n",
    "#Use the Person class to create an object, and then execute the printname method:\n",
    "\n",
    "x = Person(\"John\", \"Doe\")\n",
    "# x.printname()\n",
    "print(x)"
   ]
  },
  {
   "cell_type": "code",
   "execution_count": 38,
   "id": "2c806ba0-bdae-44d8-9d86-5911ad44477e",
   "metadata": {},
   "outputs": [],
   "source": [
    "class Student(Person): #inheriting the parent clas\n",
    "    pass\n",
    "\n",
    "\n"
   ]
  },
  {
   "cell_type": "markdown",
   "id": "5bd9a39b-83ff-456c-811b-e93203031bb0",
   "metadata": {},
   "source": [
    "<div style='color:red';>\n",
    "<h3>Note: pass keyword</h3> \n",
    "    Use the pass keyword when you do not want to add any other properties or methods to the class.\n",
    "</div>\n",
    "\n",
    "\n",
    "Now the Student class has the same properties and methods as the Person class.\n"
   ]
  },
  {
   "cell_type": "code",
   "execution_count": 39,
   "id": "daa79fcf-cdf6-48ad-a8ac-3652ac0ba5b2",
   "metadata": {},
   "outputs": [
    {
     "name": "stdout",
     "output_type": "stream",
     "text": [
      "Mike Olsen\n"
     ]
    }
   ],
   "source": [
    "#Use the Student class to create an object, and then execute the printname method:\n",
    "\n",
    "x = Student(\"Mike\", \"Olsen\")\n",
    "print(x)"
   ]
  },
  {
   "cell_type": "markdown",
   "id": "08c88768-d053-428f-ad15-ed5ec2cef4e2",
   "metadata": {},
   "source": [
    "<div style='color:red';>\n",
    "    <h2>Function Overriding</h2>\n",
    "</div>\n",
    "\n",
    " <h4>2 Ways for function overriding in inheritance</h4>\n",
    " * As in the child class we want to add the another __init__ function it will override the parent methode to make inheritance 2 methode uses\n",
    " \n",
    " ---Parent class Name\n",
    " \n",
    " ---Super() function ----> mostly used "
   ]
  },
  {
   "cell_type": "markdown",
   "id": "1d3e0e06-bf9e-4af7-b485-138480a9dacb",
   "metadata": {},
   "source": [
    "### Methode1"
   ]
  },
  {
   "cell_type": "code",
   "execution_count": 40,
   "id": "bcfead2c-58bd-48b1-984f-8cc048c0d58f",
   "metadata": {},
   "outputs": [],
   "source": [
    "#1st way to do inheritance with methode overriding\n",
    "\n",
    "class Student(Person):\n",
    "    def __init__(self, firstname, lname):\n",
    "        Person.__init__(self, fname, lname)\n",
    "        pass\n",
    "#it means we are saying that you should use implementation of parent class use these parameter"
   ]
  },
  {
   "cell_type": "markdown",
   "id": "06a38e2c-312b-485e-a6e0-2ac63380304b",
   "metadata": {},
   "source": [
    "### Methode2"
   ]
  },
  {
   "cell_type": "code",
   "execution_count": 41,
   "id": "02e45ec9-82a4-4a72-8fbc-d9e8b8a4a901",
   "metadata": {},
   "outputs": [],
   "source": [
    "#2nd way to do inheritance with methode overriding while using super not send self\n",
    "\n",
    "class Student(Person):\n",
    "    def __init__(self, firstname, lname):\n",
    "        super().__init__(fname, lname)\n",
    "        pass\n",
    "#it means we are saying that you should use implementation of parent class use these parameter"
   ]
  },
  {
   "cell_type": "code",
   "execution_count": 42,
   "id": "645990b4-38c8-4d78-8cfa-dec471d2958e",
   "metadata": {},
   "outputs": [],
   "source": [
    "#2nd way to do inheritance with methode overriding while using super not send self\n",
    "#Add a year parameter, and pass the correct year when creating objects:\n",
    "\n",
    "class Student(Person):\n",
    "    def __init__(self, firstname, lname, year):\n",
    "        super().__init__(firstname, lname)\n",
    "        self.graduationyear = year\n"
   ]
  },
  {
   "cell_type": "code",
   "execution_count": 48,
   "id": "83577215-e47f-4333-b002-1029d4f0feb7",
   "metadata": {},
   "outputs": [],
   "source": [
    "# x = Student(\"Abdul\", \"Subhan\", 2019)\n",
    "# print(x)"
   ]
  },
  {
   "cell_type": "markdown",
   "id": "aa469507-90cf-4023-ac4e-10c0f206dae9",
   "metadata": {},
   "source": [
    "<div style='color:red';>\n",
    "    <h3>Add Methods Into Existing Class</h3>\n",
    "</div>\n",
    "Add a method called welcome to the Student class:\n",
    "\n"
   ]
  },
  {
   "cell_type": "code",
   "execution_count": 63,
   "id": "be83596b-3b84-4a8a-b5c8-2343558d7a5d",
   "metadata": {},
   "outputs": [],
   "source": [
    "def welcome(self):\n",
    "    print(\"Welcome\", self.firstname, self.lname, \"to the batch of\", self.graduationyear)\n",
    "\n",
    "\n",
    "Student.welcome = welcome"
   ]
  },
  {
   "cell_type": "code",
   "execution_count": 64,
   "id": "a4464e3e-25ea-410b-8b8c-fcac862f4d23",
   "metadata": {},
   "outputs": [
    {
     "name": "stdout",
     "output_type": "stream",
     "text": [
      "Welcome Abdul Subhan to the batch of 2024\n"
     ]
    }
   ],
   "source": [
    "x = Student(\"Abdul\", \"Subhan\", 2024)\n",
    "# print(x)\n",
    "x.welcome()"
   ]
  },
  {
   "cell_type": "code",
   "execution_count": null,
   "id": "7108fe74-6586-41dc-bf49-a248ae627b43",
   "metadata": {},
   "outputs": [],
   "source": []
  },
  {
   "cell_type": "code",
   "execution_count": null,
   "id": "b6df0dc2-95cb-4812-ade1-c41e21de16a5",
   "metadata": {},
   "outputs": [],
   "source": []
  }
 ],
 "metadata": {
  "kernelspec": {
   "display_name": "Python 3 (ipykernel)",
   "language": "python",
   "name": "python3"
  },
  "language_info": {
   "codemirror_mode": {
    "name": "ipython",
    "version": 3
   },
   "file_extension": ".py",
   "mimetype": "text/x-python",
   "name": "python",
   "nbconvert_exporter": "python",
   "pygments_lexer": "ipython3",
   "version": "3.12.4"
  }
 },
 "nbformat": 4,
 "nbformat_minor": 5
}
