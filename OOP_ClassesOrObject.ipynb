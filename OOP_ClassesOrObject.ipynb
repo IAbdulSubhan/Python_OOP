{
 "cells": [
  {
   "cell_type": "markdown",
   "id": "2ec01d59-d8db-4c9a-8e85-8521259c0675",
   "metadata": {},
   "source": [
    "# OOP (Classes, Objects, Composition)"
   ]
  },
  {
   "cell_type": "markdown",
   "id": "859efe46-fb5c-4f47-9833-5a7d514c4076",
   "metadata": {},
   "source": [
    "### 1.1 Simple Class"
   ]
  },
  {
   "cell_type": "markdown",
   "id": "ebe909af-4992-4880-8af5-dc9b14fd18fd",
   "metadata": {},
   "source": [
    "<div style='color: red;'>\n",
    "    <h3>Note:</h3>\n",
    "Most Common error due to missing of self let say the function is is non parametrized likee __str __.\n",
    "This error occurs because the `__str__` method is missing the `self` parameter, which is necessary for instance methods in Python classes.\n",
    "\n",
    "* Person.__init__() takes from 0 positional arguments but 1 were given\n",
    "<div>"
   ]
  },
  {
   "cell_type": "code",
   "execution_count": 3,
   "id": "4be52686-dd94-4c0b-a93a-9de6838163ab",
   "metadata": {},
   "outputs": [
    {
     "name": "stdout",
     "output_type": "stream",
     "text": [
      "5\n"
     ]
    }
   ],
   "source": [
    "#Ex1\n",
    "class MyClass:\n",
    "  x = 5\n",
    "\n",
    "#instance creation\n",
    "p1 = MyClass()\n",
    "print(p1.x)"
   ]
  },
  {
   "cell_type": "markdown",
   "id": "5bbffa7f-69e0-4296-bb9a-1ef2bdd2a6b5",
   "metadata": {},
   "source": [
    "### 1.2 The __init__() Function\n",
    "\n",
    "* Setting Up Your Object’s Initial State\"\n",
    "\n",
    "The `__init__` method in Python is a special method called a constructor. It’s used to initialize a new instance of a class with specific attributes when the object is created. Essentially, it sets up the initial state of the object."
   ]
  },
  {
   "cell_type": "code",
   "execution_count": 4,
   "id": "bdcf6237-0ffb-438c-8969-aee751a343a3",
   "metadata": {},
   "outputs": [
    {
     "name": "stdout",
     "output_type": "stream",
     "text": [
      "John\n",
      "36\n"
     ]
    }
   ],
   "source": [
    "class Person:\n",
    "  def __init__(self, name = \"ali\", age = 20):  #when funcitn have default value its ==> overloading\n",
    "    self.name = name\n",
    "    self.age = age\n",
    "\n",
    "\n",
    "p1 = Person(\"John\", 36)  #creating instance Note: passing value in the class object is option becz const have default value\n",
    "\n",
    "\n",
    "print(p1.name)\n",
    "print(p1.age)"
   ]
  },
  {
   "cell_type": "markdown",
   "id": "240d09ed-7437-4d45-abbf-daa9c6b166ef",
   "metadata": {},
   "source": [
    "### The __str__() Function\n",
    "\n",
    "The __str__ method in Python is a special method used to define how an object is represented as a string. When you use the print() function on an object, Python internally calls that object's __str__ method to get the string representation of the object.\n",
    "\n",
    "\n",
    "* When you create an instance of Person with p1 = Person(\"John\", 36), it stores the name and age.\n",
    "* Its automatically called when the print(p1) statement calls p1.__str__() to get the string representation.\n",
    "* The __str__ method returns the string \"{self.name}({self.age})\", which is \"John(36)\" in this case.\n"
   ]
  },
  {
   "cell_type": "code",
   "execution_count": 5,
   "id": "e5e99429-67d8-4558-8bb6-d943214823df",
   "metadata": {},
   "outputs": [
    {
     "name": "stdout",
     "output_type": "stream",
     "text": [
      "John(36)\n"
     ]
    }
   ],
   "source": [
    "class Person:\n",
    "  def __init__(self, name, age):\n",
    "    self.name = name\n",
    "    self.age = age\n",
    "\n",
    "  def __str__(self):     #body of this function will be customized by our own how we want to see the fields of the object provide easyness to print the object/instance \n",
    "    return f\"{self.name}({self.age})\"    \n",
    "\n",
    "p1 = Person(\"John\", 36)\n",
    "\n",
    "print(p1)\n"
   ]
  },
  {
   "cell_type": "markdown",
   "id": "b4057e80-0408-4b26-81ef-b58e43e1ef36",
   "metadata": {},
   "source": [
    "<div style='color:red;'>\n",
    "    <h3>Note:</h3>\n",
    "* Python allow overwriting if you create the new function or var by same name prev will be overwrittend doesn't matter.\n",
    "*  \n",
    "it is constructor \\__init\\__  for it rule is same as well\n",
    "</div>"
   ]
  },
  {
   "cell_type": "markdown",
   "id": "2f783a8b-ea31-42f8-aa4d-5782fb30a84f",
   "metadata": {},
   "source": [
    "### The self Parameter\n",
    "* The self parameter is a reference to the current instance of the class, and is used to access variables that belongs to the class.\n",
    "\n",
    "* It does not have to be named self , you can call it whatever you like, but it has to be the first parameter of any function in the class:"
   ]
  },
  {
   "cell_type": "code",
   "execution_count": 6,
   "id": "e44fd295-aaac-477a-81fb-615e1fa508d6",
   "metadata": {},
   "outputs": [
    {
     "name": "stdout",
     "output_type": "stream",
     "text": [
      "Hello my name is John\n"
     ]
    }
   ],
   "source": [
    "class Person:\n",
    "  def __init__(mysillyobject, name, age):\n",
    "    mysillyobject.name = name\n",
    "    mysillyobject.age = age\n",
    "\n",
    "  def myfunc(abc):\n",
    "    print(\"Hello my name is \" + abc.name)\n",
    "\n",
    "p1 = Person(\"John\", 36)\n",
    "p1.myfunc()"
   ]
  },
  {
   "cell_type": "markdown",
   "id": "30320e74-16eb-4399-973f-1211c67f661f",
   "metadata": {},
   "source": [
    "### Object Methods\n",
    "* Objects can also contain methods. Methods in objects are functions that belong to the object.\n",
    "\n",
    "* Let us create a method in the Person class:\n",
    "\n"
   ]
  },
  {
   "cell_type": "code",
   "execution_count": 7,
   "id": "952996f8-150c-4a11-8d67-eb5b79cf26e1",
   "metadata": {},
   "outputs": [
    {
     "name": "stdout",
     "output_type": "stream",
     "text": [
      "Hello my name is John\n"
     ]
    }
   ],
   "source": [
    "class Person:\n",
    "  def __init__(self, name, age):\n",
    "    self.name = name\n",
    "    self.age = age\n",
    "\n",
    "  def myfunc(self):\n",
    "    print(\"Hello my name is \" + self.name)\n",
    "\n",
    "p1 = Person(\"John\", 36)\n",
    "p1.myfunc()"
   ]
  },
  {
   "cell_type": "markdown",
   "id": "bbb425b0-d106-49fe-a8a6-da5fe9531785",
   "metadata": {},
   "source": [
    "### Update object field value\n"
   ]
  },
  {
   "cell_type": "code",
   "execution_count": 8,
   "id": "28fc67c6-39c5-4110-9c58-fe15ac0827f5",
   "metadata": {},
   "outputs": [
    {
     "name": "stdout",
     "output_type": "stream",
     "text": [
      "Hello my name is Abdul Subhan\n"
     ]
    }
   ],
   "source": [
    "p1.name = \"Abdul Subhan\"\n",
    "p1.myfunc()"
   ]
  },
  {
   "cell_type": "markdown",
   "id": "f8bc577b-3628-446c-b23e-093039148a6e",
   "metadata": {},
   "source": [
    "### The pass Statement\n",
    "* class definitions cannot be empty, but if you for some reason have a class definition with no content, put in the pass statement to avoid getting an error.\n",
    "\n"
   ]
  },
  {
   "cell_type": "code",
   "execution_count": 9,
   "id": "081010c0-bbb5-4fd8-ae9f-804575652586",
   "metadata": {},
   "outputs": [],
   "source": [
    "class Person:\n",
    "  pass"
   ]
  },
  {
   "attachments": {
    "ebee3b86-f2fa-45b9-9c8c-00945a66a5f0.png": {
     "image/png": "[encoded data removed]"
    }
   },
   "cell_type": "markdown",
   "id": "25dd29b5-d9c3-4c9b-bda1-f05239e04616",
   "metadata": {},
   "source": [
    "# What is Composition (Has-A Relation)?\n",
    "Composition is a fundamental concept in object-oriented programming that describes a \"Has-A\" relationship between objects. It allows you to build complex objects by combining simpler ones. Here's a clear and simple breakdown:\n",
    "\n",
    "Concept:\n",
    "* Definition: Composition is a design principle where a class is composed of one or more objects from other classes. This represents a \"Has-A\" relationship. For example, a Car class might be composed of an Engine class and a Wheel class.\n",
    "\n",
    "* Has-A Relationship: This means that one class \"has\" another class as part of its state. For example, a Library class might have a collection of Book objects. This relationship contrasts with inheritance (Is-A relationship), where one class is a specialized type of another class.\n",
    "* ![image.png](attachment:ebee3b86-f2fa-45b9-9c8c-00945a66a5f0.png)"
   ]
  },
  {
   "cell_type": "code",
   "execution_count": 10,
   "id": "4ea94627-7f09-47f0-a99e-62e35762fee5",
   "metadata": {},
   "outputs": [
    {
     "name": "stdout",
     "output_type": "stream",
     "text": [
      "Component class object created...\n",
      "Composite class object also created...\n",
      "Composite class m2() method executed...\n",
      "Component class m1() method executed...\n"
     ]
    }
   ],
   "source": [
    "# Example1:\n",
    "class Component: \n",
    "\n",
    "# composite class constructor \n",
    "\tdef __init__(self): \n",
    "\t\tprint('Component class object created...') \n",
    "\n",
    "\t# composite class instance method \n",
    "\tdef m1(self): \n",
    "\t\tprint('Component class m1() method executed...') \n",
    "\n",
    "\n",
    "class Composite: \n",
    "\n",
    "\t# composite class constructor \n",
    "\tdef __init__(self): \n",
    "\n",
    "\t\t# creating object of component class \n",
    "\t\tself.obj1 = Component() \n",
    "\t\t\n",
    "\t\tprint('Composite class object also created...') \n",
    "\n",
    "\t# composite class instance method \n",
    "\tdef m2(self): \n",
    "\t\t\n",
    "\t\tprint('Composite class m2() method executed...') \n",
    "\n",
    "\t\t# calling m1() method of component class \n",
    "\t\tself.obj1.m1() \n",
    "\n",
    "\n",
    "# creating object of composite class \n",
    "obj2 = Composite() \n",
    "\n",
    "# calling m2() method of composite class \n",
    "obj2.m2() \n"
   ]
  },
  {
   "cell_type": "code",
   "execution_count": 19,
   "id": "33682eb8-6e8c-4813-ac37-006693c308bc",
   "metadata": {},
   "outputs": [],
   "source": [
    "# Example2\n",
    "class Engine:\n",
    "    def __init__(self, type):\n",
    "        self.type = type\n",
    "\n",
    "    def start(self):\n",
    "        print(f\"Engine {self.type} started.\")\n",
    "\n",
    "class Wheel:\n",
    "    def __init__(self, size):\n",
    "        self.size = size\n",
    "\n",
    "    def rotate(self):\n",
    "        print(f\"Wheel size {self.size} is rotating.\")\n",
    "\n",
    "class Car:\n",
    "    def __init__(self, engine_type, wheel_size):\n",
    "        \n",
    "        \"\"\" Note...........\n",
    "        # two ways to create object if outside from class simple methode used variable name = classname()\n",
    "        # Other wise another methode is ==> self.engine = Engine(engine_type)\"\"\"\n",
    "        \n",
    "        self.engine = Engine(engine_type)  # Car \"has\" an Engine\n",
    "        \n",
    "        # Create wheels using a loop instead of list comprehension\n",
    "        \"\"\"When you want that your loop should run number of times and dont want to use i j etc you can use below syntax code\"\"\"\n",
    "        self.wheels = []  #Attributes defined with self persist for the lifetime of the instance, meaning they can be accessed by other methods of that instance.\n",
    "        for _ in range(4):\n",
    "            wheel = Wheel(wheel_size)  # Create a new Wheel object\n",
    "            self.wheels.append(wheel)  # Add the Wheel object to the list\n",
    "\n",
    "    def start(self):\n",
    "        self.engine.start()\n",
    "        print(\"Car is moving with wheels:\")\n",
    "        for wheel in self.wheels:\n",
    "            wheel.rotate()\n",
    "\n",
    "# # Usage\n",
    "# my_car = Car(\"V8\", 16)\n",
    "# my_car.start()\n"
   ]
  },
  {
   "cell_type": "markdown",
   "id": "e4e6b888-a198-45dc-8ba7-89b667e0d7d4",
   "metadata": {},
   "source": [
    "\n",
    "<div style='color:red';> \n",
    "    <h3>Note:</h3>\n",
    "    we can add methods to class even after it has been defined! it comes in composition </div>"
   ]
  },
  {
   "cell_type": "code",
   "execution_count": 31,
   "id": "e2ffaba6-7728-4d18-94b5-ce23e119e83e",
   "metadata": {},
   "outputs": [],
   "source": [
    "#below is code how you can instert function \n",
    "\n",
    "def car_details_confirmation(self):\n",
    "    print(\"Confirmation by newly created method about car details\")\n",
    "    print(\"Engine type is \", self.engine.type)\n",
    "    print(\"Wheel size of car is \", [wheel.size for wheel in self.wheels])\n",
    "\n",
    "Car.car_details_confirmation = car_details_confirmation #this is code how you can instert function at run time"
   ]
  },
  {
   "cell_type": "code",
   "execution_count": 32,
   "id": "54ab254e-a0bc-4e8e-938e-f30343cac248",
   "metadata": {},
   "outputs": [
    {
     "name": "stdout",
     "output_type": "stream",
     "text": [
      "Engine V8 started.\n",
      "Car is moving with wheels:\n",
      "Wheel size 16 is rotating.\n",
      "Wheel size 16 is rotating.\n",
      "Wheel size 16 is rotating.\n",
      "Wheel size 16 is rotating.\n",
      "Confirmation by newly created method about car details\n",
      "Engine type is  V8\n",
      "Wheel size of car is  [16, 16, 16, 16]\n"
     ]
    }
   ],
   "source": [
    "# Usage\n",
    "my_car = Car(\"V8\", 16)\n",
    "my_car.start()\n",
    "my_car.car_details_confirmation()"
   ]
  },
  {
   "cell_type": "code",
   "execution_count": null,
   "id": "f3442d19-4c66-4cfd-a465-bb82c192e326",
   "metadata": {},
   "outputs": [],
   "source": []
  }
 ],
 "metadata": {
  "kernelspec": {
   "display_name": "Python 3 (ipykernel)",
   "language": "python",
   "name": "python3"
  },
  "language_info": {
   "codemirror_mode": {
    "name": "ipython",
    "version": 3
   },
   "file_extension": ".py",
   "mimetype": "text/x-python",
   "name": "python",
   "nbconvert_exporter": "python",
   "pygments_lexer": "ipython3",
   "version": "3.12.4"
  }
 },
 "nbformat": 4,
 "nbformat_minor": 5
}
